{
 "cells": [
  {
   "cell_type": "code",
   "execution_count": 3,
   "id": "8dbee260-a4fb-4ab9-afef-b9f6765cbb09",
   "metadata": {},
   "outputs": [],
   "source": [
    "import pandas as pd\n",
    "import numpy as np\n",
    "import matplotlib.pyplot as plt"
   ]
  },
  {
   "cell_type": "code",
   "execution_count": 4,
   "id": "e503b9ad-c616-480f-8d0a-a6765dc57cc9",
   "metadata": {},
   "outputs": [],
   "source": [
    "df=pd.read_csv(\"spotify.csv\")"
   ]
  },
  {
   "cell_type": "code",
   "execution_count": 6,
   "id": "dd1efb46-1efa-42a9-9f24-b81c88622117",
   "metadata": {},
   "outputs": [
    {
     "data": {
      "text/html": [
       "<div>\n",
       "<style scoped>\n",
       "    .dataframe tbody tr th:only-of-type {\n",
       "        vertical-align: middle;\n",
       "    }\n",
       "\n",
       "    .dataframe tbody tr th {\n",
       "        vertical-align: top;\n",
       "    }\n",
       "\n",
       "    .dataframe thead th {\n",
       "        text-align: right;\n",
       "    }\n",
       "</style>\n",
       "<table border=\"1\" class=\"dataframe\">\n",
       "  <thead>\n",
       "    <tr style=\"text-align: right;\">\n",
       "      <th></th>\n",
       "      <th>Artist</th>\n",
       "      <th>Track Name</th>\n",
       "      <th>Popularity</th>\n",
       "      <th>Duration (ms)</th>\n",
       "      <th>Track ID</th>\n",
       "    </tr>\n",
       "  </thead>\n",
       "  <tbody>\n",
       "    <tr>\n",
       "      <th>0</th>\n",
       "      <td>Drake</td>\n",
       "      <td>Rich Baby Daddy (feat. Sexyy Red &amp; SZA)</td>\n",
       "      <td>92</td>\n",
       "      <td>319191</td>\n",
       "      <td>1yeB8MUNeLo9Ek1UEpsyz6</td>\n",
       "    </tr>\n",
       "    <tr>\n",
       "      <th>1</th>\n",
       "      <td>Drake</td>\n",
       "      <td>One Dance</td>\n",
       "      <td>91</td>\n",
       "      <td>173986</td>\n",
       "      <td>1zi7xx7UVEFkmKfv06H8x0</td>\n",
       "    </tr>\n",
       "    <tr>\n",
       "      <th>2</th>\n",
       "      <td>Drake</td>\n",
       "      <td>IDGAF (feat. Yeat)</td>\n",
       "      <td>90</td>\n",
       "      <td>260111</td>\n",
       "      <td>2YSzYUF3jWqb9YP9VXmpjE</td>\n",
       "    </tr>\n",
       "    <tr>\n",
       "      <th>3</th>\n",
       "      <td>Drake</td>\n",
       "      <td>First Person Shooter (feat. J. Cole)</td>\n",
       "      <td>88</td>\n",
       "      <td>247444</td>\n",
       "      <td>7aqfrAY2p9BUSiupwk3svU</td>\n",
       "    </tr>\n",
       "    <tr>\n",
       "      <th>4</th>\n",
       "      <td>Drake</td>\n",
       "      <td>Jimmy Cooks (feat. 21 Savage)</td>\n",
       "      <td>88</td>\n",
       "      <td>218364</td>\n",
       "      <td>3F5CgOj3wFlRv51JsHbxhe</td>\n",
       "    </tr>\n",
       "  </tbody>\n",
       "</table>\n",
       "</div>"
      ],
      "text/plain": [
       "  Artist                               Track Name  Popularity  Duration (ms)  \\\n",
       "0  Drake  Rich Baby Daddy (feat. Sexyy Red & SZA)          92         319191   \n",
       "1  Drake                                One Dance          91         173986   \n",
       "2  Drake                       IDGAF (feat. Yeat)          90         260111   \n",
       "3  Drake     First Person Shooter (feat. J. Cole)          88         247444   \n",
       "4  Drake            Jimmy Cooks (feat. 21 Savage)          88         218364   \n",
       "\n",
       "                 Track ID  \n",
       "0  1yeB8MUNeLo9Ek1UEpsyz6  \n",
       "1  1zi7xx7UVEFkmKfv06H8x0  \n",
       "2  2YSzYUF3jWqb9YP9VXmpjE  \n",
       "3  7aqfrAY2p9BUSiupwk3svU  \n",
       "4  3F5CgOj3wFlRv51JsHbxhe  "
      ]
     },
     "execution_count": 6,
     "metadata": {},
     "output_type": "execute_result"
    }
   ],
   "source": [
    "df.head(5)"
   ]
  },
  {
   "cell_type": "code",
   "execution_count": 7,
   "id": "dd745456-0cf8-473c-a110-2da0c2db660d",
   "metadata": {},
   "outputs": [
    {
     "name": "stdout",
     "output_type": "stream",
     "text": [
      "<class 'pandas.core.frame.DataFrame'>\n",
      "RangeIndex: 440 entries, 0 to 439\n",
      "Data columns (total 5 columns):\n",
      " #   Column         Non-Null Count  Dtype \n",
      "---  ------         --------------  ----- \n",
      " 0   Artist         440 non-null    object\n",
      " 1   Track Name     440 non-null    object\n",
      " 2   Popularity     440 non-null    int64 \n",
      " 3   Duration (ms)  440 non-null    int64 \n",
      " 4   Track ID       440 non-null    object\n",
      "dtypes: int64(2), object(3)\n",
      "memory usage: 17.3+ KB\n"
     ]
    }
   ],
   "source": [
    "df.info() # check data"
   ]
  },
  {
   "cell_type": "code",
   "execution_count": 8,
   "id": "aa47794d-a281-402e-ae41-03f51d1ad778",
   "metadata": {},
   "outputs": [
    {
     "data": {
      "text/html": [
       "<div>\n",
       "<style scoped>\n",
       "    .dataframe tbody tr th:only-of-type {\n",
       "        vertical-align: middle;\n",
       "    }\n",
       "\n",
       "    .dataframe tbody tr th {\n",
       "        vertical-align: top;\n",
       "    }\n",
       "\n",
       "    .dataframe thead th {\n",
       "        text-align: right;\n",
       "    }\n",
       "</style>\n",
       "<table border=\"1\" class=\"dataframe\">\n",
       "  <thead>\n",
       "    <tr style=\"text-align: right;\">\n",
       "      <th></th>\n",
       "      <th>Popularity</th>\n",
       "      <th>Duration (ms)</th>\n",
       "    </tr>\n",
       "  </thead>\n",
       "  <tbody>\n",
       "    <tr>\n",
       "      <th>count</th>\n",
       "      <td>440.000000</td>\n",
       "      <td>440.000000</td>\n",
       "    </tr>\n",
       "    <tr>\n",
       "      <th>mean</th>\n",
       "      <td>75.736364</td>\n",
       "      <td>206810.040909</td>\n",
       "    </tr>\n",
       "    <tr>\n",
       "      <th>std</th>\n",
       "      <td>9.886534</td>\n",
       "      <td>53576.930289</td>\n",
       "    </tr>\n",
       "    <tr>\n",
       "      <th>min</th>\n",
       "      <td>29.000000</td>\n",
       "      <td>81666.000000</td>\n",
       "    </tr>\n",
       "    <tr>\n",
       "      <th>25%</th>\n",
       "      <td>70.000000</td>\n",
       "      <td>172778.500000</td>\n",
       "    </tr>\n",
       "    <tr>\n",
       "      <th>50%</th>\n",
       "      <td>77.000000</td>\n",
       "      <td>201866.000000</td>\n",
       "    </tr>\n",
       "    <tr>\n",
       "      <th>75%</th>\n",
       "      <td>83.000000</td>\n",
       "      <td>235119.750000</td>\n",
       "    </tr>\n",
       "    <tr>\n",
       "      <th>max</th>\n",
       "      <td>97.000000</td>\n",
       "      <td>501648.000000</td>\n",
       "    </tr>\n",
       "  </tbody>\n",
       "</table>\n",
       "</div>"
      ],
      "text/plain": [
       "       Popularity  Duration (ms)\n",
       "count  440.000000     440.000000\n",
       "mean    75.736364  206810.040909\n",
       "std      9.886534   53576.930289\n",
       "min     29.000000   81666.000000\n",
       "25%     70.000000  172778.500000\n",
       "50%     77.000000  201866.000000\n",
       "75%     83.000000  235119.750000\n",
       "max     97.000000  501648.000000"
      ]
     },
     "execution_count": 8,
     "metadata": {},
     "output_type": "execute_result"
    }
   ],
   "source": [
    "df.describe()"
   ]
  },
  {
   "cell_type": "code",
   "execution_count": 9,
   "id": "0574a8e8-ab3d-47ba-9ee3-fb2a2e7d3618",
   "metadata": {},
   "outputs": [
    {
     "data": {
      "text/plain": [
       "Artist           0\n",
       "Track Name       0\n",
       "Popularity       0\n",
       "Duration (ms)    0\n",
       "Track ID         0\n",
       "dtype: int64"
      ]
     },
     "execution_count": 9,
     "metadata": {},
     "output_type": "execute_result"
    }
   ],
   "source": [
    "df.isnull().sum() #check null value"
   ]
  },
  {
   "cell_type": "code",
   "execution_count": null,
   "id": "5ac855ef-3e81-4cc2-b66e-59f56b8bdf7f",
   "metadata": {},
   "outputs": [],
   "source": []
  }
 ],
 "metadata": {
  "kernelspec": {
   "display_name": "Python 3 (ipykernel)",
   "language": "python",
   "name": "python3"
  },
  "language_info": {
   "codemirror_mode": {
    "name": "ipython",
    "version": 3
   },
   "file_extension": ".py",
   "mimetype": "text/x-python",
   "name": "python",
   "nbconvert_exporter": "python",
   "pygments_lexer": "ipython3",
   "version": "3.13.3"
  }
 },
 "nbformat": 4,
 "nbformat_minor": 5
}
